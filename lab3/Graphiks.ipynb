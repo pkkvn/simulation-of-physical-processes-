{
 "cells": [
  {
   "cell_type": "code",
   "execution_count": 2,
   "metadata": {},
   "outputs": [
    {
     "data": {
      "image/png": "[encoded data removed]",
      "text/plain": [
       "<Figure size 432x288 with 1 Axes>"
      ]
     },
     "metadata": {
      "needs_background": "light"
     },
     "output_type": "display_data"
    },
    {
     "name": "stdout",
     "output_type": "stream",
     "text": [
      "AxesSubplot(0.125,0.125;0.775x0.755)\n"
     ]
    }
   ],
   "source": [
    "import matplotlib.pyplot as plt;\n",
    "import numpy as np;\n",
    "\n",
    "n, summ = np.loadtxt('res1.txt', unpack=True)\n",
    "\n",
    "fig, (g1) = plt.subplots(1, 1)\n",
    "\n",
    "             \n",
    "g1.scatter(n, summ, 1)\n",
    "#g2.scatter(time, phi, 1)\n",
    "#g3.scatter(time, xi, 1)\n",
    "             \n",
    "plt.show()\n",
    "print (g1)"
   ]
  },
  {
   "cell_type": "code",
   "execution_count": 1,
   "metadata": {},
   "outputs": [
    {
     "data": {
      "image/png": "[encoded data removed]",
      "text/plain": [
       "<Figure size 432x288 with 1 Axes>"
      ]
     },
     "metadata": {
      "needs_background": "light"
     },
     "output_type": "display_data"
    }
   ],
   "source": [
    "import matplotlib.pyplot as plt;\n",
    "import numpy as np;\n",
    "\n",
    "n, summ = np.loadtxt('res2.txt', unpack=True)\n",
    "\n",
    "fig, (g1) = plt.subplots(1, 1)\n",
    "\n",
    "             \n",
    "g1.scatter(n, summ, 1)\n",
    "#g2.scatter(time, phi, 1)\n",
    "#g3.scatter(time, xi, 1)\n",
    "             \n",
    "plt.show()\n"
   ]
  },
  {
   "cell_type": "code",
   "execution_count": null,
   "metadata": {},
   "outputs": [],
   "source": []
  }
 ],
 "metadata": {
  "kernelspec": {
   "display_name": "Python 3",
   "language": "python",
   "name": "python3"
  },
  "language_info": {
   "codemirror_mode": {
    "name": "ipython",
    "version": 3
   },
   "file_extension": ".py",
   "mimetype": "text/x-python",
   "name": "python",
   "nbconvert_exporter": "python",
   "pygments_lexer": "ipython3",
   "version": "3.8.5"
  }
 },
 "nbformat": 4,
 "nbformat_minor": 4
}
